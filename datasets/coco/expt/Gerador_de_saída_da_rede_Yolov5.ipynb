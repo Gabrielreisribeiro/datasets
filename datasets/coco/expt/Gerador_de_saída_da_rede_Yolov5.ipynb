{
  "nbformat": 4,
  "nbformat_minor": 0,
  "metadata": {
    "colab": {
      "name": "Gerador de saída da rede Yolov5.ipynb",
      "provenance": [],
      "collapsed_sections": [
        "3_tHvsDcNpia",
        "ziwbFQNvN3yN",
        "DxJZLmu0N6h0",
        "XSQ8xNdTNk8M",
        "yJBvKMj_OB4i",
        "TAeMz-JrOENb",
        "0lnfMekNOGmr",
        "7yTwjf7nOIa9"
      ]
    },
    "kernelspec": {
      "name": "python3",
      "display_name": "Python 3"
    },
    "language_info": {
      "name": "python"
    }
  },
  "cells": [
    {
      "cell_type": "markdown",
      "source": [
        "## Primeiro a ser executado"
      ],
      "metadata": {
        "id": "3_tHvsDcNpia"
      }
    },
    {
      "cell_type": "code",
      "execution_count": null,
      "metadata": {
        "id": "boQ-UaLFBrAo"
      },
      "outputs": [],
      "source": [
        "def remove_lines(input_txt):\n",
        "  with open(input_txt, 'r') as fr:\n",
        "          # reading line by line\n",
        "          lines = fr.readlines()\n",
        "            \n",
        "          # pointer for position\n",
        "          ptr = 1\n",
        "        \n",
        "          # opening in writing mode\n",
        "          \n",
        "          with open(input_txt, 'w') as fw:\n",
        "              for line in lines:\n",
        "                  \n",
        "                  # we want to remove 5th line\n",
        "                  if ptr > 6:\n",
        "                      fw.write(line)\n",
        "                  ptr += 1\n",
        "\n",
        "  linha_especifica = 0\n",
        "  texto = \"caminho,percent,sinal,sup_esq,sup_dir,inf_esq,inf_dir,done \"\n",
        "\n",
        "  file = open(input_txt,'r')\n",
        "  lines = file.readlines()\n",
        "  file.close()\n",
        "\n",
        "  lines.insert(linha_especifica, texto + \"\\n\")\n",
        "\n",
        "  file = open(input_txt, 'w')\n",
        "  file.writelines(lines)\n",
        "  file.close()"
      ]
    },
    {
      "cell_type": "markdown",
      "source": [
        "## Segundo a ser executado"
      ],
      "metadata": {
        "id": "ziwbFQNvN3yN"
      }
    },
    {
      "cell_type": "code",
      "source": [
        "#execute apenas uma vez\n",
        "remove_lines('output.txt')"
      ],
      "metadata": {
        "id": "uMuR1vvjK9r9"
      },
      "execution_count": null,
      "outputs": []
    },
    {
      "cell_type": "markdown",
      "source": [
        "## Terceiro a ser executado"
      ],
      "metadata": {
        "id": "DxJZLmu0N6h0"
      }
    },
    {
      "cell_type": "code",
      "source": [
        "import os\n",
        "def change_extension(file_name):\n",
        "    dir_name = os.path.dirname(file_name)\n",
        "    file_name = os.path.basename(file_name)\n",
        "    file_name = os.path.splitext(file_name)[0]  # discard extension\n",
        "    #print(file_name)\n",
        "\n",
        "    return file_name    "
      ],
      "metadata": {
        "id": "FjgNv-HZZObC"
      },
      "execution_count": null,
      "outputs": []
    },
    {
      "cell_type": "markdown",
      "source": [
        "## Quarto a ser executado"
      ],
      "metadata": {
        "id": "XSQ8xNdTNk8M"
      }
    },
    {
      "cell_type": "code",
      "source": [
        "import pandas as pd\n",
        "data = pd.read_csv(\"output.txt\") #abrindo como dataframe\n",
        "sinal= data['sinal']\n",
        "data = data.drop(data.index[[292,293]])\n",
        "x = data['caminho'] #selecionando coluna\n",
        "contList = len(x)\n",
        "# esse for serve para substituir o caminho(path) pelo nome do arquivo\n",
        "for i in x:\n",
        "  l= change_extension(i)  \n",
        "  data['caminho'] = data['caminho'].replace({i:l})\n",
        "\n",
        "data = data.transpose() #transforma linha em colunas\n"
      ],
      "metadata": {
        "id": "brfqXLgDLAsF"
      },
      "execution_count": null,
      "outputs": []
    },
    {
      "cell_type": "markdown",
      "source": [
        "## Quinto a ser executado"
      ],
      "metadata": {
        "id": "yJBvKMj_OB4i"
      }
    },
    {
      "cell_type": "code",
      "source": [
        "data = data.drop(data.index[[1,6,7]]) #retira linhas indesejadas"
      ],
      "metadata": {
        "id": "Vt-bTh7vohjS"
      },
      "execution_count": null,
      "outputs": []
    },
    {
      "cell_type": "markdown",
      "source": [
        "## Sexto a ser executado"
      ],
      "metadata": {
        "id": "TAeMz-JrOENb"
      }
    },
    {
      "cell_type": "code",
      "source": [
        "#le o doc de sinais txt e converte em dataframe\n",
        "classes = pd.read_csv(\"sinal.txt\")\n",
        "print(classes)\n",
        "classe = classes['display'] #seleciona coluna display\n",
        "valor = classes['valor']#seleciona coluna valor\n",
        "\n"
      ],
      "metadata": {
        "id": "WtdrjeGuepmK"
      },
      "execution_count": null,
      "outputs": []
    },
    {
      "cell_type": "markdown",
      "source": [
        "## Sétimo a ser executado"
      ],
      "metadata": {
        "id": "0lnfMekNOGmr"
      }
    },
    {
      "cell_type": "code",
      "source": [
        "#aqui ele faz a comparação de cada valor obtido pelo teste e substitui cada um com seu label\n",
        "cont = 0\n",
        "n = 0\n",
        "while n < len(data.columns):\n",
        "  for i in data[n]:\n",
        "    count = 0\n",
        "    for j in classe:\n",
        "        if j in i:\n",
        "          data[n] = data[n].replace({i:valor[count]})\n",
        "          print(\"caiu\")\n",
        "        count += 1\n",
        "  n += 1\n",
        "\n",
        "\n",
        "   \n",
        "\n",
        "    "
      ],
      "metadata": {
        "id": "SLgL0sTKe3sB"
      },
      "execution_count": null,
      "outputs": []
    },
    {
      "cell_type": "markdown",
      "source": [
        "## Ultimo a ser executado"
      ],
      "metadata": {
        "id": "7yTwjf7nOIa9"
      }
    },
    {
      "cell_type": "code",
      "source": [
        "#aqui ele escreve cada celula em linhas txt\n",
        "output_file = open('saida.txt','a')\n",
        "with open('saida.txt', 'w') as fw:\n",
        "  for line in range(len(data.columns)):\n",
        "      frases = list()\n",
        "      frases.append(data[line][0] +\"\\n\")\n",
        "      frases.append(data[line][2])\n",
        "      frases.append(data[line][3]+\"\\n\")\n",
        "      frases.append(data[line][1])\n",
        "      frases.append(data[line][4]+\"\\n\")\n",
        "      frases.append(\"----------------- \\n\")\n",
        "      output_file.writelines(frases)"
      ],
      "metadata": {
        "id": "jqUVTg1B-uhJ"
      },
      "execution_count": null,
      "outputs": []
    },
    {
      "cell_type": "markdown",
      "source": [
        "***O arquivo Saída.txt foi gerado, basta abrir e vizualizar.***"
      ],
      "metadata": {
        "id": "lThBMOPOOLc5"
      }
    }
  ]
}